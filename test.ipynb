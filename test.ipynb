{
 "cells": [
  {
   "cell_type": "code",
   "execution_count": null,
   "metadata": {},
   "outputs": [],
   "source": [
    "import pandas as pd\n",
    "import os\n",
    "from utils import download_images\n",
    "\n",
    "# Load datasets\n",
    "DATASET_FOLDER = '../dataset/'\n",
    "train = pd.read_csv(os.path.join(DATASET_FOLDER, 'train.csv'))\n",
    "test = pd.read_csv(os.path.join(DATASET_FOLDER, 'test.csv'))\n",
    "sample_test = pd.read_csv(os.path.join(DATASET_FOLDER, 'sample_test.csv'))\n",
    "sample_test_out = pd.read_csv(os.path.join(DATASET_FOLDER, 'sample_test_out.csv'))\n",
    "\n",
    "# Download images\n",
    "download_images(sample_test['image_link'], '../images')\n",
    "\n",
    "# Check images download\n",
    "assert len(os.listdir('../images')) > 0\n",
    "\n",
    "# Your prediction code goes here\n",
    "from utils import parse_string\n",
    "\n",
    "def process_image(image_path):\n",
    "    # Dummy implementation for image processing\n",
    "    text = extract_text_from_image(image_path)  # Replace with actual OCR extraction function\n",
    "    number, unit = parse_string(text)\n",
    "    return number, unit\n",
    "\n",
    "def generate_predictions(test_df, image_folder):\n",
    "    predictions = []\n",
    "    for idx, row in test_df.iterrows():\n",
    "        image_path = os.path.join(image_folder, os.path.basename(row['image_link']))\n",
    "        number, unit = process_image(image_path)\n",
    "        if number and unit:\n",
    "            prediction = f\"{number} {unit}\"\n",
    "        else:\n",
    "            prediction = \"\"\n",
    "        predictions.append({'index': row['index'], 'prediction': prediction})\n",
    "    return pd.DataFrame(predictions)\n",
    "\n",
    "# Generate predictions\n",
    "output_df = generate_predictions(sample_test, '../images')\n",
    "output_df.to_csv('../dataset/sample_test_out.csv', index=False)\n",
    "\n",
    "# Run sanity check\n",
    "!python src/sanity.py --test_filename ../dataset/sample_test.csv --output_filename ../dataset/sample_test_out.csv\n"
   ]
  },
  {
   "cell_type": "code",
   "execution_count": null,
   "metadata": {},
   "outputs": [],
   "source": []
  }
 ],
 "metadata": {
  "language_info": {
   "name": "python"
  }
 },
 "nbformat": 4,
 "nbformat_minor": 2
}
